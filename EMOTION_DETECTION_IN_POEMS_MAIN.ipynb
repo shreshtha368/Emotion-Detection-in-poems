{
  "nbformat": 4,
  "nbformat_minor": 0,
  "metadata": {
    "colab": {
      "provenance": [],
      "gpuType": "T4"
    },
    "kernelspec": {
      "name": "python3",
      "display_name": "Python 3"
    },
    "language_info": {
      "name": "python"
    },
    "accelerator": "GPU"
  },
  "cells": [
    {
      "cell_type": "code",
      "execution_count": null,
      "metadata": {
        "id": "RVACRiYvumjv"
      },
      "outputs": [],
      "source": [
        "import pandas as pd\n",
        "import numpy as np\n",
        "from sklearn.model_selection import train_test_split\n",
        "from sklearn.preprocessing import LabelEncoder\n",
        "from sklearn.utils.class_weight import compute_class_weight\n",
        "from tensorflow.keras.utils import to_categorical\n",
        "import tensorflow as tf\n",
        "from tensorflow.keras.layers import Dense, LSTM, Bidirectional, Dropout, Input, Layer, GlobalMaxPooling1D, LayerNormalization\n",
        "from tensorflow.keras.models import Model\n",
        "from transformers import BertTokenizer, TFBertModel\n",
        "from tensorflow.keras.optimizers import Adam\n",
        "from tensorflow.keras.callbacks import EarlyStopping, ReduceLROnPlateau"
      ]
    },
    {
      "cell_type": "code",
      "source": [
        "df = pd.read_excel(\"/content/PERC_mendelly.xlsx\")"
      ],
      "metadata": {
        "id": "ihb0sLJRusQ7"
      },
      "execution_count": null,
      "outputs": []
    },
    {
      "cell_type": "code",
      "source": [
        "def map_emotions(emotion):\n",
        "    positive = ['courage', 'joy', 'love', 'peace', 'surprise']\n",
        "    negative = ['anger', 'fear', 'hate', 'sad']\n",
        "    return 'positive' if emotion in positive else 'negative' if emotion in negative else 'neutral'\n",
        "\n",
        "df['Sentiment'] = df['Emotion'].apply(map_emotions)"
      ],
      "metadata": {
        "id": "W7_9N5KvuuGT"
      },
      "execution_count": null,
      "outputs": []
    },
    {
      "cell_type": "code",
      "source": [
        "# Tokenization\n",
        "tokenizer = BertTokenizer.from_pretrained('bert-base-uncased')\n",
        "def tokenize_poems(text, max_len=128):\n",
        "    return tokenizer(text, max_length=max_len, padding='max_length', truncation=True, return_tensors='tf')\n",
        "X = list(df['Poem'].values)\n",
        "X_tokenized = [tokenize_poems(poem) for poem in X]\n",
        "X_input_ids = np.array([x['input_ids'][0].numpy() for x in X_tokenized])\n",
        "X_attention_masks = np.array([x['attention_mask'][0].numpy() for x in X_tokenized])"
      ],
      "metadata": {
        "colab": {
          "base_uri": "https://localhost:8080/"
        },
        "id": "7IuroraZuw4l",
        "outputId": "e84ddf45-8b2f-480f-e4a6-44d502979c83"
      },
      "execution_count": null,
      "outputs": [
        {
          "output_type": "stream",
          "name": "stderr",
          "text": [
            "/usr/local/lib/python3.10/dist-packages/transformers/tokenization_utils_base.py:1601: FutureWarning: `clean_up_tokenization_spaces` was not set. It will be set to `True` by default. This behavior will be depracted in transformers v4.45, and will be then set to `False` by default. For more details check this issue: https://github.com/huggingface/transformers/issues/31884\n",
            "  warnings.warn(\n"
          ]
        }
      ]
    },
    {
      "cell_type": "code",
      "source": [
        "# Encode sentiments\n",
        "label_encoder = LabelEncoder()\n",
        "df['Sentiment_encoded'] = label_encoder.fit_transform(df['Sentiment'])\n",
        "y = df['Sentiment_encoded'].values"
      ],
      "metadata": {
        "id": "4sbtaVQpuyfP"
      },
      "execution_count": null,
      "outputs": []
    },
    {
      "cell_type": "code",
      "source": [
        "y_train = np.argmax(to_categorical(y), axis=1)"
      ],
      "metadata": {
        "id": "1Hxz9Z_lu327"
      },
      "execution_count": null,
      "outputs": []
    },
    {
      "cell_type": "code",
      "source": [
        "X_train_input_ids, X_val_input_ids, X_train_attention_masks, X_val_attention_masks, y_train, y_val = train_test_split(\n",
        "    X_input_ids, X_attention_masks, y_train, test_size=0.2, stratify=y_train, random_state=42)"
      ],
      "metadata": {
        "id": "lYU2H03mu5qp"
      },
      "execution_count": null,
      "outputs": []
    },
    {
      "cell_type": "code",
      "source": [
        "# Load BERT model\n",
        "bert_model = TFBertModel.from_pretrained('bert-base-uncased')\n",
        "for layer in bert_model.layers:\n",
        "    layer.trainable = True"
      ],
      "metadata": {
        "colab": {
          "base_uri": "https://localhost:8080/"
        },
        "id": "jIdDdhiDu7Gz",
        "outputId": "1e352a0c-54e4-444f-b670-5237b45c3a3c"
      },
      "execution_count": null,
      "outputs": [
        {
          "output_type": "stream",
          "name": "stderr",
          "text": [
            "Some weights of the PyTorch model were not used when initializing the TF 2.0 model TFBertModel: ['cls.seq_relationship.bias', 'cls.predictions.transform.dense.weight', 'cls.predictions.transform.LayerNorm.bias', 'cls.predictions.transform.dense.bias', 'cls.predictions.bias', 'cls.predictions.transform.LayerNorm.weight', 'cls.seq_relationship.weight']\n",
            "- This IS expected if you are initializing TFBertModel from a PyTorch model trained on another task or with another architecture (e.g. initializing a TFBertForSequenceClassification model from a BertForPreTraining model).\n",
            "- This IS NOT expected if you are initializing TFBertModel from a PyTorch model that you expect to be exactly identical (e.g. initializing a TFBertForSequenceClassification model from a BertForSequenceClassification model).\n",
            "All the weights of TFBertModel were initialized from the PyTorch model.\n",
            "If your task is similar to the task the model of the checkpoint was trained on, you can already use TFBertModel for predictions without further training.\n"
          ]
        }
      ]
    },
    {
      "cell_type": "code",
      "source": [
        "# Custom BERT layer\n",
        "class BertLayer(Layer):\n",
        "    def __init__(self, **kwargs):\n",
        "        super(BertLayer, self).__init__(**kwargs)\n",
        "        self.bert = bert_model\n",
        "\n",
        "    def call(self, inputs):\n",
        "        input_ids, attention_mask = inputs\n",
        "        outputs = self.bert(input_ids=input_ids, attention_mask=attention_mask)\n",
        "        return outputs.last_hidden_state"
      ],
      "metadata": {
        "id": "mT8Y7oUDu8iv"
      },
      "execution_count": null,
      "outputs": []
    },
    {
      "cell_type": "code",
      "source": [
        "# Model architecture\n",
        "max_len = 128\n",
        "input_ids = Input(shape=(max_len,), dtype=tf.int32, name=\"input_ids\")\n",
        "attention_masks = Input(shape=(max_len,), dtype=tf.int32, name=\"attention_masks\")\n",
        "\n",
        "bert_embeddings = BertLayer()([input_ids, attention_masks])\n",
        "bert_embeddings = LayerNormalization()(bert_embeddings)"
      ],
      "metadata": {
        "id": "YGsSmaxFu-JZ"
      },
      "execution_count": null,
      "outputs": []
    },
    {
      "cell_type": "code",
      "source": [
        "# Simplified architecture with more dropout\n",
        "x = Bidirectional(LSTM(64, return_sequences=True))(bert_embeddings)\n",
        "x = GlobalMaxPooling1D()(x)\n",
        "x = Dense(64, activation='relu')(x)\n",
        "x = Dropout(0.3)(x)\n",
        "\n",
        "output_layer = Dense(3, activation='softmax')(x)\n",
        "\n",
        "model = Model(inputs=[input_ids, attention_masks], outputs=output_layer)"
      ],
      "metadata": {
        "id": "DkpzrhT3vBgB"
      },
      "execution_count": null,
      "outputs": []
    },
    {
      "cell_type": "code",
      "source": [
        "# Compile\n",
        "optimizer = Adam(learning_rate=3e-5, clipnorm=1.0)\n",
        "model.compile(optimizer=optimizer, loss='sparse_categorical_crossentropy', metrics=['accuracy'])"
      ],
      "metadata": {
        "id": "nkzTUN73vDVD"
      },
      "execution_count": null,
      "outputs": []
    },
    {
      "cell_type": "code",
      "source": [
        "# Compute class weights\n",
        "class_weights = compute_class_weight(class_weight='balanced', classes=np.unique(y_train), y=y_train)\n",
        "class_weights_dict = dict(enumerate(class_weights))"
      ],
      "metadata": {
        "id": "3r0CveCKvDta"
      },
      "execution_count": null,
      "outputs": []
    },
    {
      "cell_type": "code",
      "source": [
        "# Callbacks\n",
        "early_stopping = EarlyStopping(monitor='val_loss', patience=3, restore_best_weights=True)\n",
        "reduce_lr = ReduceLROnPlateau(monitor='val_loss', factor=0.5, patience=2, min_lr=1e-6)"
      ],
      "metadata": {
        "id": "lZtl2YmqvGA7"
      },
      "execution_count": null,
      "outputs": []
    },
    {
      "cell_type": "code",
      "source": [
        "# Train the model\n",
        "history = model.fit([X_train_input_ids, X_train_attention_masks], y_train,\n",
        "                    validation_data=([X_test_input_ids, X_test_attention_masks], y_test),\n",
        "                    epochs=15,\n",
        "                    batch_size=16,\n",
        "                    class_weight=class_weights_dict,\n",
        "                    callbacks=[early_stopping, reduce_lr],\n",
        "                    verbose=1)"
      ],
      "metadata": {
        "colab": {
          "base_uri": "https://localhost:8080/"
        },
        "id": "-qS84CUFvHY5",
        "outputId": "4be7ba32-5c2a-40ff-bde5-95c97b8e292d"
      },
      "execution_count": null,
      "outputs": [
        {
          "output_type": "stream",
          "name": "stdout",
          "text": [
            "Epoch 1/15\n",
            "\u001b[1m36/36\u001b[0m \u001b[32m━━━━━━━━━━━━━━━━━━━━\u001b[0m\u001b[37m\u001b[0m \u001b[1m25s\u001b[0m 280ms/step - accuracy: 0.2641 - loss: 1.2685 - val_accuracy: 0.5000 - val_loss: 0.8605 - learning_rate: 3.0000e-05\n",
            "Epoch 2/15\n",
            "\u001b[1m36/36\u001b[0m \u001b[32m━━━━━━━━━━━━━━━━━━━━\u001b[0m\u001b[37m\u001b[0m \u001b[1m7s\u001b[0m 198ms/step - accuracy: 0.5006 - loss: 0.8719 - val_accuracy: 0.6042 - val_loss: 0.7347 - learning_rate: 3.0000e-05\n",
            "Epoch 3/15\n",
            "\u001b[1m36/36\u001b[0m \u001b[32m━━━━━━━━━━━━━━━━━━━━\u001b[0m\u001b[37m\u001b[0m \u001b[1m10s\u001b[0m 198ms/step - accuracy: 0.5755 - loss: 0.7706 - val_accuracy: 0.6528 - val_loss: 0.6906 - learning_rate: 3.0000e-05\n",
            "Epoch 4/15\n",
            "\u001b[1m36/36\u001b[0m \u001b[32m━━━━━━━━━━━━━━━━━━━━\u001b[0m\u001b[37m\u001b[0m \u001b[1m10s\u001b[0m 197ms/step - accuracy: 0.6139 - loss: 0.7192 - val_accuracy: 0.6736 - val_loss: 0.6667 - learning_rate: 3.0000e-05\n",
            "Epoch 5/15\n",
            "\u001b[1m36/36\u001b[0m \u001b[32m━━━━━━━━━━━━━━━━━━━━\u001b[0m\u001b[37m\u001b[0m \u001b[1m7s\u001b[0m 191ms/step - accuracy: 0.5425 - loss: 0.7365 - val_accuracy: 0.7014 - val_loss: 0.6482 - learning_rate: 3.0000e-05\n",
            "Epoch 6/15\n",
            "\u001b[1m36/36\u001b[0m \u001b[32m━━━━━━━━━━━━━━━━━━━━\u001b[0m\u001b[37m\u001b[0m \u001b[1m7s\u001b[0m 194ms/step - accuracy: 0.6187 - loss: 0.7025 - val_accuracy: 0.7569 - val_loss: 0.6209 - learning_rate: 3.0000e-05\n",
            "Epoch 7/15\n",
            "\u001b[1m36/36\u001b[0m \u001b[32m━━━━━━━━━━━━━━━━━━━━\u001b[0m\u001b[37m\u001b[0m \u001b[1m10s\u001b[0m 194ms/step - accuracy: 0.6283 - loss: 0.6569 - val_accuracy: 0.7708 - val_loss: 0.6044 - learning_rate: 3.0000e-05\n",
            "Epoch 8/15\n",
            "\u001b[1m36/36\u001b[0m \u001b[32m━━━━━━━━━━━━━━━━━━━━\u001b[0m\u001b[37m\u001b[0m \u001b[1m10s\u001b[0m 190ms/step - accuracy: 0.6724 - loss: 0.6512 - val_accuracy: 0.7847 - val_loss: 0.5830 - learning_rate: 3.0000e-05\n",
            "Epoch 9/15\n",
            "\u001b[1m36/36\u001b[0m \u001b[32m━━━━━━━━━━━━━━━━━━━━\u001b[0m\u001b[37m\u001b[0m \u001b[1m7s\u001b[0m 194ms/step - accuracy: 0.7091 - loss: 0.6109 - val_accuracy: 0.8264 - val_loss: 0.5643 - learning_rate: 3.0000e-05\n",
            "Epoch 10/15\n",
            "\u001b[1m36/36\u001b[0m \u001b[32m━━━━━━━━━━━━━━━━━━━━\u001b[0m\u001b[37m\u001b[0m \u001b[1m10s\u001b[0m 195ms/step - accuracy: 0.7086 - loss: 0.5881 - val_accuracy: 0.8194 - val_loss: 0.5531 - learning_rate: 3.0000e-05\n",
            "Epoch 11/15\n",
            "\u001b[1m36/36\u001b[0m \u001b[32m━━━━━━━━━━━━━━━━━━━━\u001b[0m\u001b[37m\u001b[0m \u001b[1m10s\u001b[0m 195ms/step - accuracy: 0.6976 - loss: 0.6015 - val_accuracy: 0.8611 - val_loss: 0.5290 - learning_rate: 3.0000e-05\n",
            "Epoch 12/15\n",
            "\u001b[1m36/36\u001b[0m \u001b[32m━━━━━━━━━━━━━━━━━━━━\u001b[0m\u001b[37m\u001b[0m \u001b[1m10s\u001b[0m 200ms/step - accuracy: 0.7706 - loss: 0.5318 - val_accuracy: 0.8542 - val_loss: 0.5154 - learning_rate: 3.0000e-05\n",
            "Epoch 13/15\n",
            "\u001b[1m36/36\u001b[0m \u001b[32m━━━━━━━━━━━━━━━━━━━━\u001b[0m\u001b[37m\u001b[0m \u001b[1m10s\u001b[0m 192ms/step - accuracy: 0.7897 - loss: 0.5152 - val_accuracy: 0.8681 - val_loss: 0.5015 - learning_rate: 3.0000e-05\n",
            "Epoch 14/15\n",
            "\u001b[1m36/36\u001b[0m \u001b[32m━━━━━━━━━━━━━━━━━━━━\u001b[0m\u001b[37m\u001b[0m \u001b[1m10s\u001b[0m 191ms/step - accuracy: 0.8199 - loss: 0.5171 - val_accuracy: 0.8750 - val_loss: 0.4843 - learning_rate: 3.0000e-05\n",
            "Epoch 15/15\n",
            "\u001b[1m36/36\u001b[0m \u001b[32m━━━━━━━━━━━━━━━━━━━━\u001b[0m\u001b[37m\u001b[0m \u001b[1m10s\u001b[0m 194ms/step - accuracy: 0.7993 - loss: 0.5143 - val_accuracy: 0.8889 - val_loss: 0.4762 - learning_rate: 3.0000e-05\n"
          ]
        }
      ]
    },
    {
      "cell_type": "code",
      "source": [
        "# Evaluation\n",
        "loss, accuracy = model.evaluate([X_test_input_ids, X_test_attention_masks], y_test)\n",
        "print(f\"Test Accuracy: {accuracy:.2f}, Test Loss: {loss:.4f}\")"
      ],
      "metadata": {
        "colab": {
          "base_uri": "https://localhost:8080/"
        },
        "id": "yTL9VeZAvIyh",
        "outputId": "d0e06f55-a136-4840-f3f7-477922b05819"
      },
      "execution_count": null,
      "outputs": [
        {
          "output_type": "stream",
          "name": "stdout",
          "text": [
            "\u001b[1m5/5\u001b[0m \u001b[32m━━━━━━━━━━━━━━━━━━━━\u001b[0m\u001b[37m\u001b[0m \u001b[1m4s\u001b[0m 249ms/step - accuracy: 0.9044 - loss: 0.4738\n",
            "Test Accuracy: 0.89, Test Loss: 0.4762\n"
          ]
        }
      ]
    },
    {
      "cell_type": "code",
      "source": [
        "sample_poem = \"A new dawn, a day of hope and love, embracing challenges, yet rising above.\"\n",
        "sample_tokenized = tokenize_poems(sample_poem)\n",
        "sample_input_ids = sample_tokenized['input_ids'].numpy()\n",
        "sample_attention_masks = sample_tokenized['attention_mask'].numpy()"
      ],
      "metadata": {
        "id": "lbsIetZdvKON"
      },
      "execution_count": null,
      "outputs": []
    },
    {
      "cell_type": "code",
      "source": [
        "sample_prediction = model.predict([sample_input_ids, sample_attention_masks])\n",
        "predicted_label = label_encoder.inverse_transform([np.argmax(sample_prediction)])\n",
        "print(f\"Sample Poem: \\\"{sample_poem}\\\"\")\n",
        "print(f\"Predicted Sentiment: {predicted_label[0]}\")"
      ],
      "metadata": {
        "colab": {
          "base_uri": "https://localhost:8080/"
        },
        "id": "v-ZDE7g4vLg9",
        "outputId": "972daacb-c285-47f4-ad68-1e101658193c"
      },
      "execution_count": null,
      "outputs": [
        {
          "output_type": "stream",
          "name": "stdout",
          "text": [
            "\u001b[1m1/1\u001b[0m \u001b[32m━━━━━━━━━━━━━━━━━━━━\u001b[0m\u001b[37m\u001b[0m \u001b[1m2s\u001b[0m 2s/step\n",
            "Sample Poem: \"A new dawn, a day of hope and love, embracing challenges, yet rising above.\"\n",
            "Predicted Sentiment: positive\n"
          ]
        }
      ]
    }
  ]
}
